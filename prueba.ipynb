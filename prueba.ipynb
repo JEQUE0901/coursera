{
 "cells": [
  {
   "cell_type": "markdown",
   "id": "d32a24ef-bc1d-40ed-9371-a8e364dcf7fd",
   "metadata": {},
   "source": [
    "# My Jupyter Notebook on IBM Watson Studio"
   ]
  },
  {
   "cell_type": "markdown",
   "id": "7f0f9cb8-c933-43e1-822f-8084ccf113fa",
   "metadata": {},
   "source": [
    "**JESUS SALAZAR**\n",
    "STATISTICS ANALYST\n"
   ]
  },
  {
   "cell_type": "markdown",
   "id": "2df9f343-11ba-469a-b13e-e40da139141a",
   "metadata": {},
   "source": [
    "*I´m interested in Data Science because I want to automate processes and to have a better understanding of my data.*"
   ]
  },
  {
   "cell_type": "markdown",
   "id": "6ed28465-bfad-4d1d-a3c0-de2d5a30017c",
   "metadata": {},
   "source": [
    "### What´s happening in the next cell is the calculation of the lenght of my name."
   ]
  },
  {
   "cell_type": "code",
   "execution_count": 23,
   "id": "21b06e6d-0404-4f80-b3b9-f376f685817c",
   "metadata": {},
   "outputs": [
    {
     "data": {
      "text/plain": [
       "5"
      ]
     },
     "execution_count": 23,
     "metadata": {},
     "output_type": "execute_result"
    }
   ],
   "source": [
    "name=\"jesus\"\n",
    "len(name)"
   ]
  },
  {
   "cell_type": "markdown",
   "id": "edc13eb0-41ca-4a0f-ab8b-b7820e0dbb1e",
   "metadata": {},
   "source": [
    "Cell 6\n",
    "---\n",
    "- a\n",
    "1.\n",
    "2.\n",
    "- b\n",
    "1.\n",
    "2.\n",
    "- c\n",
    "![](https://www.python.org/static/community_logos/python-logo-master-v3-TM.png)\n",
    "\n",
    "This is a hyperlink to a youtube video\n",
    "\n",
    "(https://www.youtube.com/watch?v=EKOfWx4dy3k)"
   ]
  },
  {
   "cell_type": "code",
   "execution_count": null,
   "id": "57c92200-ffe6-49f4-9e83-06b8104435de",
   "metadata": {},
   "outputs": [],
   "source": []
  }
 ],
 "metadata": {
  "kernelspec": {
   "display_name": "Python",
   "language": "python",
   "name": "conda-env-python-py"
  },
  "language_info": {
   "codemirror_mode": {
    "name": "ipython",
    "version": 3
   },
   "file_extension": ".py",
   "mimetype": "text/x-python",
   "name": "python",
   "nbconvert_exporter": "python",
   "pygments_lexer": "ipython3",
   "version": "3.7.12"
  }
 },
 "nbformat": 4,
 "nbformat_minor": 5
}
